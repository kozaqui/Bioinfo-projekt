{
 "cells": [
  {
   "cell_type": "code",
   "execution_count": 1,
   "metadata": {
    "collapsed": true
   },
   "outputs": [],
   "source": [
    "import sqlite3\n",
    "import time\n",
    "import datetime\n",
    "\n",
    "import numpy as np\n",
    "import matplotlib.pyplot as plt\n",
    "import matplotlib.dates as mdates"
   ]
  },
  {
   "cell_type": "code",
   "execution_count": 2,
   "metadata": {
    "collapsed": true
   },
   "outputs": [],
   "source": [
    "conn = sqlite3.connect('tutorial.db') # open/create new database"
   ]
  },
  {
   "cell_type": "code",
   "execution_count": 4,
   "metadata": {
    "collapsed": false
   },
   "outputs": [],
   "source": [
    "c = conn.cursor() # specify cursor for database"
   ]
  },
  {
   "cell_type": "code",
   "execution_count": 5,
   "metadata": {
    "collapsed": true
   },
   "outputs": [],
   "source": [
    "def tableCreate():\n",
    "    c.execute(\"CREATE TABLE stuffToPlot(ID INT, unix REAL, datestamp TEXT, keyword TEXT, value REAL)\")"
   ]
  },
  {
   "cell_type": "code",
   "execution_count": 7,
   "metadata": {
    "collapsed": false
   },
   "outputs": [
    {
     "ename": "OperationalError",
     "evalue": "table stuffToPlot already exists",
     "output_type": "error",
     "traceback": [
      "\u001b[0;31m---------------------------------------------------------------------------\u001b[0m",
      "\u001b[0;31mOperationalError\u001b[0m                          Traceback (most recent call last)",
      "\u001b[0;32m<ipython-input-7-782f085c74e2>\u001b[0m in \u001b[0;36m<module>\u001b[0;34m()\u001b[0m\n\u001b[0;32m----> 1\u001b[0;31m \u001b[0mtableCreate\u001b[0m\u001b[0;34m(\u001b[0m\u001b[0;34m)\u001b[0m\u001b[0;34m\u001b[0m\u001b[0m\n\u001b[0m",
      "\u001b[0;32m<ipython-input-5-fada51076369>\u001b[0m in \u001b[0;36mtableCreate\u001b[0;34m()\u001b[0m\n\u001b[1;32m      1\u001b[0m \u001b[0;32mdef\u001b[0m \u001b[0mtableCreate\u001b[0m\u001b[0;34m(\u001b[0m\u001b[0;34m)\u001b[0m\u001b[0;34m:\u001b[0m\u001b[0;34m\u001b[0m\u001b[0m\n\u001b[0;32m----> 2\u001b[0;31m     \u001b[0mc\u001b[0m\u001b[0;34m.\u001b[0m\u001b[0mexecute\u001b[0m\u001b[0;34m(\u001b[0m\u001b[0;34m'CREATE TABLE stuffToPlot(ID INT, unix REAL, datestamp TEXT, keyword TEXT, value REAL)'\u001b[0m\u001b[0;34m)\u001b[0m\u001b[0;34m\u001b[0m\u001b[0m\n\u001b[0m",
      "\u001b[0;31mOperationalError\u001b[0m: table stuffToPlot already exists"
     ]
    }
   ],
   "source": [
    "tableCreate()"
   ]
  },
  {
   "cell_type": "code",
   "execution_count": 10,
   "metadata": {
    "collapsed": false
   },
   "outputs": [],
   "source": [
    "def dataEntry():\n",
    "    c.execute(\"INSERT INTO stuffToPlot VALUES(1, 1365876.98, '2016-01-09 12:54:21', 'Python Sentiment', 5)\")\n",
    "    c.execute(\"INSERT INTO stuffToPlot VALUES(2, 1365826.98, '2016-01-09 12:57:08', 'Python Sentiment', 5)\")\n",
    "    c.execute(\"INSERT INTO stuffToPlot VALUES(2, 136276.98, '2016-01-09 13:32:11', 'Python Sentiment', 4)\")\n",
    "    conn.commit()"
   ]
  },
  {
   "cell_type": "code",
   "execution_count": 11,
   "metadata": {
    "collapsed": true
   },
   "outputs": [],
   "source": [
    "dataEntry()"
   ]
  },
  {
   "cell_type": "code",
   "execution_count": 15,
   "metadata": {
    "collapsed": true
   },
   "outputs": [],
   "source": [
    "idfordb = 4\n",
    "keyword = 'Python Sentiment'\n",
    "value = 7"
   ]
  },
  {
   "cell_type": "code",
   "execution_count": 18,
   "metadata": {
    "collapsed": false
   },
   "outputs": [
    {
     "data": {
      "text/plain": [
       "1452957545.945306"
      ]
     },
     "execution_count": 18,
     "metadata": {},
     "output_type": "execute_result"
    }
   ],
   "source": [
    "time.time() # unix time: no. of seconds after Jan 1 1970"
   ]
  },
  {
   "cell_type": "code",
   "execution_count": 19,
   "metadata": {
    "collapsed": false
   },
   "outputs": [
    {
     "data": {
      "text/plain": [
       "datetime.datetime(2016, 1, 16, 16, 20, 39, 134735)"
      ]
     },
     "execution_count": 19,
     "metadata": {},
     "output_type": "execute_result"
    }
   ],
   "source": [
    "datetime.datetime.fromtimestamp(time.time())"
   ]
  },
  {
   "cell_type": "code",
   "execution_count": 23,
   "metadata": {
    "collapsed": false
   },
   "outputs": [
    {
     "data": {
      "text/plain": [
       "'2016-01-16 16:22:59'"
      ]
     },
     "execution_count": 23,
     "metadata": {},
     "output_type": "execute_result"
    }
   ],
   "source": [
    "datetime.datetime.fromtimestamp(time.time()).strftime('%Y-%m-%d %H:%M:%S')"
   ]
  },
  {
   "cell_type": "code",
   "execution_count": null,
   "metadata": {
    "collapsed": true
   },
   "outputs": [],
   "source": [
    "datetime.datetime.fromtimestamp(time.time()).strftime('%y-%m-%d')"
   ]
  },
  {
   "cell_type": "code",
   "execution_count": 28,
   "metadata": {
    "collapsed": true
   },
   "outputs": [],
   "source": [
    "def realDataEntry():\n",
    "    date=datetime.datetime.fromtimestamp(time.time()).strftime('%Y-%m-%d %H:%M:%S')\n",
    "    c.execute(\"INSERT INTO stuffToPlot (ID, unix, datestamp, keyword, value) VALUES (?,?,?,?,?)\",\n",
    "             (idfordb, time.time(), date, keyword, value))\n",
    "    conn.commit()"
   ]
  },
  {
   "cell_type": "code",
   "execution_count": 29,
   "metadata": {
    "collapsed": false
   },
   "outputs": [],
   "source": [
    "realDataEntry()"
   ]
  },
  {
   "cell_type": "markdown",
   "metadata": {},
   "source": [
    "# Reading data"
   ]
  },
  {
   "cell_type": "code",
   "execution_count": 34,
   "metadata": {
    "collapsed": true
   },
   "outputs": [],
   "source": [
    "sql = \"SELECT * FROM stuffToPlot WHERE keyword = ?\"\n",
    "# sql = \"SELECT * FROM stuffToPlot WHERE keyword = ? AND source = ?\"\n",
    "# a potem\n",
    "#     for row in c.execute(sql, [(wordUsed), (sourceVariable)]):\n",
    "\n",
    "\n",
    "\n",
    "wordUsed ='Python Sentiment'"
   ]
  },
  {
   "cell_type": "code",
   "execution_count": 62,
   "metadata": {
    "collapsed": false
   },
   "outputs": [],
   "source": [
    "def readData():\n",
    "    skipSymbols = str.maketrans('()','  ')\n",
    "    for row in c.execute(sql, [(wordUsed)]):\n",
    "        print(str(row).translate(skipSymbols))"
   ]
  },
  {
   "cell_type": "code",
   "execution_count": 58,
   "metadata": {
    "collapsed": false
   },
   "outputs": [
    {
     "name": "stdout",
     "output_type": "stream",
     "text": [
      " 1, 1365876.98, '2016-01-09 12:54:21', 'Python Sentiment', 5.0 \n",
      " 2, 1365826.98, '2016-01-09 12:57:08', 'Python Sentiment', 5.0 \n",
      " 2, 136276.98, '2016-01-09 13:32:11', 'Python Sentiment', 4.0 \n",
      " 4, 1452959471.316042, '2016-01-16 16:51:11', 'Python Sentiment', 7.0 \n"
     ]
    }
   ],
   "source": [
    "readData()"
   ]
  },
  {
   "cell_type": "markdown",
   "metadata": {},
   "source": [
    "# Plot data"
   ]
  },
  {
   "cell_type": "code",
   "execution_count": 63,
   "metadata": {
    "collapsed": true
   },
   "outputs": [],
   "source": [
    "skipSymbols = str.maketrans('()','  ')"
   ]
  },
  {
   "cell_type": "code",
   "execution_count": 69,
   "metadata": {
    "collapsed": false
   },
   "outputs": [
    {
     "name": "stdout",
     "output_type": "stream",
     "text": [
      " '2016-01-09 12:54:21', 5.0 \n",
      " '2016-01-09 12:57:08', 5.0 \n",
      " '2016-01-09 13:32:11', 4.0 \n",
      " '2016-01-16 16:51:11', 7.0 \n"
     ]
    }
   ],
   "source": [
    "graphArray = []\n",
    "for row in c.execute(sql, [(wordUsed)]):\n",
    "    startingInfo = str(row).translate(skipSymbols)\n",
    "    splitInfo = startingInfo.split(',')\n",
    "    graphArrayAppend = splitInfo[2]+','+splitInfo[4]\n",
    "    print(graphArrayAppend)\n",
    "    graphArray.append(graphArrayAppend)"
   ]
  },
  {
   "cell_type": "code",
   "execution_count": 78,
   "metadata": {
    "collapsed": false
   },
   "outputs": [
    {
     "ename": "SyntaxError",
     "evalue": "invalid syntax (<ipython-input-78-57a766437e9c>, line 2)",
     "output_type": "error",
     "traceback": [
      "\u001b[0;36m  File \u001b[0;32m\"<ipython-input-78-57a766437e9c>\"\u001b[0;36m, line \u001b[0;32m2\u001b[0m\n\u001b[0;31m    unpack=True, converters={ 0:mdates.strpdate2num(\" %Y-%m-%d %H:%M:%S\")}))\u001b[0m\n\u001b[0m                                                                           ^\u001b[0m\n\u001b[0;31mSyntaxError\u001b[0m\u001b[0;31m:\u001b[0m invalid syntax\n"
     ]
    }
   ],
   "source": [
    "datestamp, value = np.loadtxt(graphArray, delimiter=',',\n",
    "                              unpack=True, converters={ 0:mdates.strpdate2num(\" %Y-%m-%d %H:%M:%S\")}))"
   ]
  },
  {
   "cell_type": "code",
   "execution_count": 80,
   "metadata": {
    "collapsed": false
   },
   "outputs": [
    {
     "ename": "OperationalError",
     "evalue": "table PDB_checklist already exists",
     "output_type": "error",
     "traceback": [
      "\u001b[0;31m---------------------------------------------------------------------------\u001b[0m",
      "\u001b[0;31mOperationalError\u001b[0m                          Traceback (most recent call last)",
      "\u001b[0;32m<ipython-input-80-c2e2249cb0a1>\u001b[0m in \u001b[0;36m<module>\u001b[0;34m()\u001b[0m\n\u001b[0;32m----> 1\u001b[0;31m \u001b[0mc\u001b[0m\u001b[0;34m.\u001b[0m\u001b[0mexecute\u001b[0m\u001b[0;34m(\u001b[0m\u001b[0;34m\"CREATE TABLE PDB_checklist(PDB_id TEXT, mod_date date, no_of_modRNA INT)\"\u001b[0m\u001b[0;34m)\u001b[0m\u001b[0;34m\u001b[0m\u001b[0m\n\u001b[0m",
      "\u001b[0;31mOperationalError\u001b[0m: table PDB_checklist already exists"
     ]
    }
   ],
   "source": [
    "c.execute(\"CREATE TABLE PDB_checklist(PDB_id TEXT, mod_date date, no_of_modRNA INT)\")"
   ]
  },
  {
   "cell_type": "code",
   "execution_count": 85,
   "metadata": {
    "collapsed": false
   },
   "outputs": [
    {
     "ename": "OperationalError",
     "evalue": "no such table: information_schema.tables",
     "output_type": "error",
     "traceback": [
      "\u001b[0;31m---------------------------------------------------------------------------\u001b[0m",
      "\u001b[0;31mOperationalError\u001b[0m                          Traceback (most recent call last)",
      "\u001b[0;32m<ipython-input-85-b4c2fea7b44b>\u001b[0m in \u001b[0;36m<module>\u001b[0;34m()\u001b[0m\n\u001b[0;32m----> 1\u001b[0;31m \u001b[0mc\u001b[0m\u001b[0;34m.\u001b[0m\u001b[0mexecute\u001b[0m\u001b[0;34m(\u001b[0m\u001b[0;34m\"\"\"SELECT * FROM information_schema.tables WHERE table_name = PDB_checklist\"\"\"\u001b[0m\u001b[0;34m)\u001b[0m\u001b[0;34m\u001b[0m\u001b[0m\n\u001b[0m",
      "\u001b[0;31mOperationalError\u001b[0m: no such table: information_schema.tables"
     ]
    }
   ],
   "source": [
    "c.execute(\"\"\"SELECT * FROM information_schema.tables WHERE table_name = PDB_checklist\"\"\")"
   ]
  },
  {
   "cell_type": "code",
   "execution_count": 96,
   "metadata": {
    "collapsed": false
   },
   "outputs": [
    {
     "data": {
      "text/plain": [
       "<sqlite3.Cursor at 0x103f7d030>"
      ]
     },
     "execution_count": 96,
     "metadata": {},
     "output_type": "execute_result"
    }
   ],
   "source": [
    "c.execute(\"SELECT * FROM sqlite_master\")"
   ]
  },
  {
   "cell_type": "code",
   "execution_count": 94,
   "metadata": {
    "collapsed": false
   },
   "outputs": [
    {
     "ename": "TypeError",
     "evalue": "'NoneType' object is not subscriptable",
     "output_type": "error",
     "traceback": [
      "\u001b[0;31m---------------------------------------------------------------------------\u001b[0m",
      "\u001b[0;31mTypeError\u001b[0m                                 Traceback (most recent call last)",
      "\u001b[0;32m<ipython-input-94-c74ae8e063ad>\u001b[0m in \u001b[0;36m<module>\u001b[0;34m()\u001b[0m\n\u001b[0;32m----> 1\u001b[0;31m \u001b[0mc\u001b[0m\u001b[0;34m.\u001b[0m\u001b[0mfetchone\u001b[0m\u001b[0;34m(\u001b[0m\u001b[0;34m)\u001b[0m\u001b[0;34m[\u001b[0m\u001b[0;36m0\u001b[0m\u001b[0;34m]\u001b[0m\u001b[0;34m\u001b[0m\u001b[0m\n\u001b[0m",
      "\u001b[0;31mTypeError\u001b[0m: 'NoneType' object is not subscriptable"
     ]
    }
   ],
   "source": [
    "c.fetchone()[0]"
   ]
  },
  {
   "cell_type": "code",
   "execution_count": 130,
   "metadata": {
    "collapsed": false
   },
   "outputs": [],
   "source": [
    "a = c.execute(\"SELECT * FROM sqlite_master WHERE type='table' AND name='PDB_checklist'\")"
   ]
  },
  {
   "cell_type": "code",
   "execution_count": 128,
   "metadata": {
    "collapsed": false
   },
   "outputs": [
    {
     "name": "stdout",
     "output_type": "stream",
     "text": [
      "('table', 'PDB_checklist', 'PDB_checklist', 3, 'CREATE TABLE PDB_checklist(PDB_id TEXT, mod_date date, no_of_modRNA INT)')\n"
     ]
    }
   ],
   "source": [
    "for row in a:\n",
    "        print(str(row))"
   ]
  },
  {
   "cell_type": "code",
   "execution_count": 131,
   "metadata": {
    "collapsed": false
   },
   "outputs": [
    {
     "name": "stdout",
     "output_type": "stream",
     "text": [
      "<sqlite3.Cursor object at 0x103f7d030>\n"
     ]
    }
   ],
   "source": [
    "print(a)"
   ]
  },
  {
   "cell_type": "code",
   "execution_count": 154,
   "metadata": {
    "collapsed": false
   },
   "outputs": [
    {
     "data": {
      "text/plain": [
       "<sqlite3.Cursor at 0x103f7d030>"
      ]
     },
     "execution_count": 154,
     "metadata": {},
     "output_type": "execute_result"
    }
   ],
   "source": [
    "c.execute(\"SELECT COUNT(*) FROM sqlite_master WHERE type='table' AND name='PDB_checklist'\")"
   ]
  },
  {
   "cell_type": "code",
   "execution_count": 155,
   "metadata": {
    "collapsed": false
   },
   "outputs": [
    {
     "name": "stdout",
     "output_type": "stream",
     "text": [
      "There's one\n"
     ]
    }
   ],
   "source": [
    "if c.fetchone()[0] == 1:\n",
    "    print(\"There's one\")\n",
    "else:\n",
    "    print(\"There's none\")"
   ]
  },
  {
   "cell_type": "code",
   "execution_count": 156,
   "metadata": {
    "collapsed": false
   },
   "outputs": [
    {
     "data": {
      "text/plain": [
       "<sqlite3.Cursor at 0x103f7d030>"
      ]
     },
     "execution_count": 156,
     "metadata": {},
     "output_type": "execute_result"
    }
   ],
   "source": [
    "c.execute(\"SELECT COUNT(*) FROM sqlite_master WHERE type='table' AND name='PDB_checklsist'\")"
   ]
  },
  {
   "cell_type": "code",
   "execution_count": 157,
   "metadata": {
    "collapsed": false
   },
   "outputs": [
    {
     "name": "stdout",
     "output_type": "stream",
     "text": [
      "There's none\n"
     ]
    }
   ],
   "source": [
    "if c.fetchone()[0] == 1:\n",
    "    print(\"There's one\")\n",
    "else:\n",
    "    print(\"There's none\")"
   ]
  },
  {
   "cell_type": "code",
   "execution_count": 4,
   "metadata": {
    "collapsed": true
   },
   "outputs": [],
   "source": [
    "def checkTableExist(cursor,tableName):\n",
    "    \"\"\"\n",
    "    Checks if a table with a given name exists in the db, and returns\n",
    "    a Boolean\n",
    "    \"\"\"\n",
    "    cursor.execute(\"SELECT COUNT(*) FROM sqlite_master \"\n",
    "                   \"WHERE type='table' \"\n",
    "                   \"AND name=?\", [tableName])\n",
    "    if cursor.fetchone()[0] == 1:\n",
    "        return True\n",
    "    else:\n",
    "        return False   "
   ]
  },
  {
   "cell_type": "code",
   "execution_count": 167,
   "metadata": {
    "collapsed": false
   },
   "outputs": [
    {
     "data": {
      "text/plain": [
       "True"
      ]
     },
     "execution_count": 167,
     "metadata": {},
     "output_type": "execute_result"
    }
   ],
   "source": [
    "checkTableExist(c, 'PDB_checklist')"
   ]
  },
  {
   "cell_type": "code",
   "execution_count": 168,
   "metadata": {
    "collapsed": true
   },
   "outputs": [],
   "source": [
    "if not checkTableExist(c, \"mod_RNA_entities\"):\n",
    "    c.execute(\"CREATE TABLE mod_RNA_entities(PDB_id TEXT, mod_date DATE, no_of_modRNA INT)\")"
   ]
  },
  {
   "cell_type": "code",
   "execution_count": 219,
   "metadata": {
    "collapsed": false
   },
   "outputs": [],
   "source": [
    "c.execute(\"INSERT INTO PDB_checklist VALUES('1aa1', '2015-02-23', 2)\")\n",
    "c.execute(\"INSERT INTO PDB_checklist VALUES('2bb2', 'now', 3)\")\n",
    "conn.commit()"
   ]
  },
  {
   "cell_type": "code",
   "execution_count": 230,
   "metadata": {
    "collapsed": false
   },
   "outputs": [
    {
     "data": {
      "text/plain": [
       "<sqlite3.Cursor at 0x103f7d030>"
      ]
     },
     "execution_count": 230,
     "metadata": {},
     "output_type": "execute_result"
    }
   ],
   "source": [
    "c.execute(\"SELECT COUNT(1) FROM PDB_checklist WHERE PDB_id = '22b2'\")"
   ]
  },
  {
   "cell_type": "code",
   "execution_count": 231,
   "metadata": {
    "collapsed": false
   },
   "outputs": [
    {
     "data": {
      "text/plain": [
       "0"
      ]
     },
     "execution_count": 231,
     "metadata": {},
     "output_type": "execute_result"
    }
   ],
   "source": [
    "c.fetchall()[0][0]"
   ]
  },
  {
   "cell_type": "code",
   "execution_count": 227,
   "metadata": {
    "collapsed": false
   },
   "outputs": [
    {
     "data": {
      "text/plain": [
       "1"
      ]
     },
     "execution_count": 227,
     "metadata": {},
     "output_type": "execute_result"
    }
   ],
   "source": [
    "a[0][0]"
   ]
  },
  {
   "cell_type": "code",
   "execution_count": 257,
   "metadata": {
    "collapsed": false
   },
   "outputs": [
    {
     "data": {
      "text/plain": [
       "<sqlite3.Cursor at 0x103f7d030>"
      ]
     },
     "execution_count": 257,
     "metadata": {},
     "output_type": "execute_result"
    }
   ],
   "source": [
    "c.execute(\"SELECT mod_date FROM PDB_checklist WHERE PDB_id = '1aa1'\")"
   ]
  },
  {
   "cell_type": "code",
   "execution_count": 258,
   "metadata": {
    "collapsed": false
   },
   "outputs": [],
   "source": [
    "a = c.fetchall()"
   ]
  },
  {
   "cell_type": "code",
   "execution_count": 259,
   "metadata": {
    "collapsed": false
   },
   "outputs": [
    {
     "data": {
      "text/plain": [
       "False"
      ]
     },
     "execution_count": 259,
     "metadata": {},
     "output_type": "execute_result"
    }
   ],
   "source": [
    "not a"
   ]
  },
  {
   "cell_type": "code",
   "execution_count": 262,
   "metadata": {
    "collapsed": false
   },
   "outputs": [
    {
     "data": {
      "text/plain": [
       "1990"
      ]
     },
     "execution_count": 262,
     "metadata": {},
     "output_type": "execute_result"
    }
   ],
   "source": [
    "a[0][0]"
   ]
  },
  {
   "cell_type": "markdown",
   "metadata": {},
   "source": [
    "# Update and delete\n",
    "## "
   ]
  },
  {
   "cell_type": "code",
   "execution_count": 277,
   "metadata": {
    "collapsed": true
   },
   "outputs": [],
   "source": [
    "def del_and_update():\n",
    "    c.execute(\"SELECT * FROM stuffToPlot\")\n",
    "    [print(row) for row in c.fetchall()]\n",
    "    \n",
    "#     c.execute(\"UPDATE stuffToPlot SET value = 99 WHERE value =(?)\", [99])\n",
    "#     conn.commit()\n",
    "    \n",
    "#     c.execute(\"SELECT * FROM stuffToPlot\")\n",
    "#     [print(row) for row in c.fetchall()]   \n",
    "\n",
    "#     c.execute(\"DELETE FROM stuffToPlot WHERE value = 99\")\n",
    "#     conn.commit()    \n",
    "#     print(50*'#')\n",
    "\n",
    "    c.execute(\"SELECT * FROM stuffToPlot WHERE value = 7\")\n",
    "    print(len(c.fetchall()))\n",
    "    \n",
    "    \n",
    "    c.execute(\"SELECT * FROM stuffToPlot\")\n",
    "    [print(row) for row in c.fetchall()]"
   ]
  },
  {
   "cell_type": "code",
   "execution_count": 278,
   "metadata": {
    "collapsed": false
   },
   "outputs": [
    {
     "name": "stdout",
     "output_type": "stream",
     "text": [
      "(2, 136276.98, '2016-01-09 13:32:11', 'Python Sentiment', 4.0)\n",
      "(4, 1452959471.316042, '2016-01-16 16:51:11', 'Python Sentiment', 7.0)\n",
      "1\n",
      "(2, 136276.98, '2016-01-09 13:32:11', 'Python Sentiment', 4.0)\n",
      "(4, 1452959471.316042, '2016-01-16 16:51:11', 'Python Sentiment', 7.0)\n"
     ]
    }
   ],
   "source": [
    "del_and_update()"
   ]
  },
  {
   "cell_type": "markdown",
   "metadata": {
    "collapsed": true
   },
   "source": [
    "# Check Real Modified RNA databases"
   ]
  },
  {
   "cell_type": "code",
   "execution_count": 2,
   "metadata": {
    "collapsed": true
   },
   "outputs": [],
   "source": [
    "connection = sqlite3.connect('modRNA.db')\n",
    "c = connection.cursor()"
   ]
  },
  {
   "cell_type": "code",
   "execution_count": 11,
   "metadata": {
    "collapsed": false
   },
   "outputs": [],
   "source": [
    "if not checkTableExist(c, \"mod_RNA_list\"):\n",
    "    c.execute(\"\"\"CREATE TABLE\n",
    "    mod_RNA_list(abbreviation TEXT, full_name TEXT)\"\"\")"
   ]
  },
  {
   "cell_type": "code",
   "execution_count": 85,
   "metadata": {
    "collapsed": false
   },
   "outputs": [],
   "source": [
    "modRNA_data = c.execute(\"\"\"SELECT DISTINCT mono_abbreviation, mono_name\n",
    "                           FROM mod_RNA_entities\"\"\")"
   ]
  },
  {
   "cell_type": "code",
   "execution_count": 86,
   "metadata": {
    "collapsed": false
   },
   "outputs": [],
   "source": [
    "# modRNA_data.fetchone()\n",
    "modRNA = modRNA_data.fetchall()"
   ]
  },
  {
   "cell_type": "code",
   "execution_count": 87,
   "metadata": {
    "collapsed": false
   },
   "outputs": [
    {
     "name": "stdout",
     "output_type": "stream",
     "text": [
      "PSU PSEUDOURIDINE-5'-MONOPHOSPHATE\n",
      "OMC O2'-METHYLYCYTIDINE-5'-MONOPHOSPHATE\n",
      "OMG O2'-METHYLGUANOSINE-5'-MONOPHOSPHATE\n",
      "1MG 1N-METHYLGUANOSINE-5'-MONOPHOSPHATE\n",
      "5MC 5-METHYLCYTIDINE-5'-MONOPHOSPHATE\n"
     ]
    }
   ],
   "source": [
    "for abbrev, name in modRNA:\n",
    "    print(abbrev, name)"
   ]
  },
  {
   "cell_type": "code",
   "execution_count": 60,
   "metadata": {
    "collapsed": false
   },
   "outputs": [
    {
     "name": "stdout",
     "output_type": "stream",
     "text": [
      "1lu3\n",
      "\n",
      "1luu\n",
      "1lux\n",
      "\n",
      "1luu\n",
      "1lux\n",
      "\n",
      "1luu\n",
      "\n",
      "1luu\n",
      "1lux\n",
      "\n"
     ]
    }
   ],
   "source": [
    "for (abbrev, name) in modRNA:\n",
    "    a = c.execute(\"\"\"SELECT DISTINCT PDB_id \n",
    "    FROM mod_RNA_entities WHERE mono_abbreviation = ?\"\"\", [abbrev])\n",
    "    for b in a.fetchall():\n",
    "        print(b[0])\n",
    "    print()"
   ]
  },
  {
   "cell_type": "code",
   "execution_count": 51,
   "metadata": {
    "collapsed": false
   },
   "outputs": [
    {
     "data": {
      "text/plain": [
       "[('1luu',), ('1lux',)]"
      ]
     },
     "execution_count": 51,
     "metadata": {},
     "output_type": "execute_result"
    }
   ],
   "source": [
    "c.fetchall()"
   ]
  },
  {
   "cell_type": "code",
   "execution_count": 90,
   "metadata": {
    "collapsed": false
   },
   "outputs": [],
   "source": [
    "modRNA_data = c.execute(\"\"\"SELECT abbreviation FROM mod_RNA_list\"\"\")"
   ]
  },
  {
   "cell_type": "code",
   "execution_count": 91,
   "metadata": {
    "collapsed": true
   },
   "outputs": [],
   "source": [
    "for abbrev in modRNA_data.fetchall():\n",
    "    print(abbrev)"
   ]
  },
  {
   "cell_type": "code",
   "execution_count": 76,
   "metadata": {
    "collapsed": true
   },
   "outputs": [],
   "source": [
    "modRNA_data.fetchone()"
   ]
  },
  {
   "cell_type": "code",
   "execution_count": 81,
   "metadata": {
    "collapsed": true
   },
   "outputs": [],
   "source": [
    "for abbrev in modRNA:\n",
    "    print(abbrev)"
   ]
  },
  {
   "cell_type": "code",
   "execution_count": 96,
   "metadata": {
    "collapsed": false
   },
   "outputs": [
    {
     "name": "stdout",
     "output_type": "stream",
     "text": [
      "('PSU',)\n",
      "('OMC',)\n",
      "('OMG',)\n",
      "('1MG',)\n",
      "('5MC',)\n"
     ]
    }
   ],
   "source": [
    "modRNA_data = c.execute(\"\"\"SELECT DISTINCT mono_abbreviation\n",
    "                           FROM mod_RNA_entities\"\"\")\n",
    "for abbrev in modRNA_data.fetchall():\n",
    "    print(abbrev)\n",
    "    PDB_list = []\n",
    "    c.execute(\"\"\"SELECT DISTINCT PDB_id FROM mod_RNA_entities\n",
    "                 WHERE mono_abbreviation = ?\"\"\", [(abbrev[0])])"
   ]
  },
  {
   "cell_type": "code",
   "execution_count": 98,
   "metadata": {
    "collapsed": false
   },
   "outputs": [
    {
     "data": {
      "text/plain": [
       "0.07940506935119629"
      ]
     },
     "execution_count": 98,
     "metadata": {},
     "output_type": "execute_result"
    }
   ],
   "source": [
    "start_time = time.time()\n",
    "for i in range(1000000):\n",
    "    j = i\n",
    "end_time = time.time()\n",
    "elapsed_time = end_time - start_time\n",
    "elapsed_time"
   ]
  },
  {
   "cell_type": "code",
   "execution_count": null,
   "metadata": {
    "collapsed": true
   },
   "outputs": [],
   "source": []
  }
 ],
 "metadata": {
  "kernelspec": {
   "display_name": "Python 3",
   "language": "python",
   "name": "python3"
  },
  "language_info": {
   "codemirror_mode": {
    "name": "ipython",
    "version": 3
   },
   "file_extension": ".py",
   "mimetype": "text/x-python",
   "name": "python",
   "nbconvert_exporter": "python",
   "pygments_lexer": "ipython3",
   "version": "3.5.0"
  }
 },
 "nbformat": 4,
 "nbformat_minor": 0
}
